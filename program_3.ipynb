{
  "nbformat": 4,
  "nbformat_minor": 0,
  "metadata": {
    "colab": {
      "provenance": [],
      "authorship_tag": "ABX9TyNCJeNOlP0edcTQLLiOuw0O",
      "include_colab_link": true
    },
    "kernelspec": {
      "name": "python3",
      "display_name": "Python 3"
    },
    "language_info": {
      "name": "python"
    }
  },
  "cells": [
    {
      "cell_type": "markdown",
      "metadata": {
        "id": "view-in-github",
        "colab_type": "text"
      },
      "source": [
        "<a href=\"https://colab.research.google.com/github/shaeera-shadha/ctrl_alt_defeat/blob/AI-lab/program_3.ipynb\" target=\"_parent\"><img src=\"https://colab.research.google.com/assets/colab-badge.svg\" alt=\"Open In Colab\"/></a>"
      ]
    },
    {
      "cell_type": "code",
      "execution_count": 1,
      "metadata": {
        "colab": {
          "base_uri": "https://localhost:8080/"
        },
        "id": "Fpz2j_PAGdgO",
        "outputId": "c32d8d21-2f8f-4707-9566-4597dcd45b27"
      },
      "outputs": [
        {
          "output_type": "stream",
          "name": "stdout",
          "text": [
            "The graph :\n",
            "\n",
            "C -> A, A, E, B\n",
            "A -> C, B, C, D\n",
            "B -> A, C, E, F\n",
            "D -> A, F\n",
            "E -> C, F, B, Z\n",
            "F -> D, E, B\n",
            "Z -> E\n",
            "\n",
            "Path and cost :\n",
            "Path : A -> B -> F -> E -> Z\n",
            "Total cost : 15\n"
          ]
        }
      ],
      "source": [
        "from collections import defaultdict\n",
        "import heapq\n",
        "\n",
        "class Graph:\n",
        "    def __init__(self) -> None:\n",
        "        self.graph = defaultdict(list)\n",
        "        self.weights = {}\n",
        "        self.heuristic = {}\n",
        "\n",
        "    def add_edges(self, u, v, weight: int = 1):\n",
        "        self.graph[u].append(v)\n",
        "        self.graph[v].append(u)\n",
        "        self.weights[(u, v)] = weight\n",
        "        self.weights[(v, u)] = weight\n",
        "\n",
        "    def set_heuristics(self, node, value):\n",
        "        self.heuristic[node] = value\n",
        "\n",
        "    def print_graph(self):\n",
        "        for node in self.graph:\n",
        "            print(f\"{node} -> {', '.join(self.graph[node])}\")\n",
        "\n",
        "    def ucs_search(self, start, goal):\n",
        "        queue = [(0, start, [])]\n",
        "        visited = set()\n",
        "\n",
        "        while queue:\n",
        "            cost, node, path = heapq.heappop(queue)\n",
        "            if node == goal:\n",
        "                return path + [node], cost\n",
        "            if node not in visited:\n",
        "                visited.add(node)\n",
        "                for neighbor in self.graph[node]:\n",
        "                    if neighbor not in visited:\n",
        "                        total_cost = cost + self.weights[(node, neighbor)]\n",
        "                        heapq.heappush(queue, (total_cost, neighbor, path + [node]))\n",
        "        return [], 0\n",
        "\n",
        "\n",
        "g = Graph()\n",
        "edges = [('C', 'A', 8), ('B', 'A', 4), ('A', 'C', 8), ('A', 'D', 7),\n",
        "         ('C', 'E', 10), ('D', 'F', 2), ('F', 'E', 1), ('B', 'C', 2),\n",
        "         ('B', 'E', 12), ('B', 'F', 5), ('E', 'Z', 5)]\n",
        "\n",
        "heuristics = {'A': 14, 'B': 12, 'C': 11, 'E': 4, 'D': 6, 'F': 1, 'Z': 0}\n",
        "\n",
        "for edge in edges:\n",
        "    g.add_edges(*edge)\n",
        "\n",
        "for node, value in heuristics.items():\n",
        "    g.set_heuristics(node, value)\n",
        "\n",
        "start = 'A'\n",
        "goal = 'Z'\n",
        "\n",
        "print(\"The graph :\\n\")\n",
        "g.print_graph()\n",
        "\n",
        "print(\"\\nPath and cost :\")\n",
        "path, cost = g.ucs_search(start, goal)\n",
        "print(f\"Path : {' -> '.join(path)}\")\n",
        "print(f\"Total cost : {cost}\")\n"
      ]
    }
  ]
}