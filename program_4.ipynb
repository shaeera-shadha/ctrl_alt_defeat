{
  "nbformat": 4,
  "nbformat_minor": 0,
  "metadata": {
    "colab": {
      "provenance": [],
      "authorship_tag": "ABX9TyMrLZAC81kJMxZYARH9JCbU",
      "include_colab_link": true
    },
    "kernelspec": {
      "name": "python3",
      "display_name": "Python 3"
    },
    "language_info": {
      "name": "python"
    }
  },
  "cells": [
    {
      "cell_type": "markdown",
      "metadata": {
        "id": "view-in-github",
        "colab_type": "text"
      },
      "source": [
        "<a href=\"https://colab.research.google.com/github/shaeera-shadha/ctrl_alt_defeat/blob/AI-lab/program_4.ipynb\" target=\"_parent\"><img src=\"https://colab.research.google.com/assets/colab-badge.svg\" alt=\"Open In Colab\"/></a>"
      ]
    },
    {
      "cell_type": "code",
      "source": [
        "import heapq\n",
        "\n",
        "def a_star_search(graph, start, goal, heuristic):\n",
        "    open_list = []\n",
        "    heapq.heappush(open_list, (0, start))\n",
        "\n",
        "    g_score = {node: float('inf') for node in graph}\n",
        "    g_score[start] = 0\n",
        "\n",
        "    f_score = {node: float('inf') for node in graph}\n",
        "    f_score[start] = heuristic[start]\n",
        "\n",
        "    came_from = {}\n",
        "\n",
        "    while open_list:\n",
        "        _, current = heapq.heappop(open_list)\n",
        "\n",
        "        if current == goal:\n",
        "            path = [current]\n",
        "            total_cost = g_score[current]\n",
        "            while current in came_from:\n",
        "                current = came_from[current]\n",
        "                path.append(current)\n",
        "            return path[::-1], total_cost\n",
        "\n",
        "        for neighbor, cost in graph[current].items():\n",
        "            temp_g_score = g_score[current] + cost\n",
        "            if temp_g_score < g_score[neighbor]:\n",
        "                g_score[neighbor] = temp_g_score\n",
        "                f_score[neighbor] = temp_g_score + heuristic[neighbor]\n",
        "                heapq.heappush(open_list, (f_score[neighbor], neighbor))\n",
        "                came_from[neighbor] = current\n",
        "\n",
        "    return None, float('inf')\n",
        "\n",
        "\n",
        "graph = {\n",
        "    'A': {'B': 1, 'C': 4},\n",
        "    'B': {'A': 1, 'D': 2, 'E': 5},\n",
        "    'C': {'A': 4, 'F': 3},\n",
        "    'D': {'B': 2, 'E': 4},\n",
        "    'E': {'B': 5, 'D': 4, 'F': 2},\n",
        "    'F': {'C': 3, 'E': 2}\n",
        "}\n",
        "\n",
        "heuristic = {'A': 6, 'B': 4, 'C': 4, 'D': 3, 'E': 2, 'F': 2}\n",
        "start = 'A'\n",
        "goal = 'F'\n",
        "\n",
        "print(\"Finding path...\")\n",
        "path, cost = a_star_search(graph, start, goal, heuristic)\n",
        "print(f\"A* Search Path: {' -> '.join(path)}\")\n",
        "print(f\"Total Cost: {cost}\")\n"
      ],
      "metadata": {
        "id": "BEiAjohBJBxV",
        "outputId": "68d8cd2f-f4f1-4cba-fd5e-9ff2949b6fe8",
        "colab": {
          "base_uri": "https://localhost:8080/"
        }
      },
      "execution_count": 3,
      "outputs": [
        {
          "output_type": "stream",
          "name": "stdout",
          "text": [
            "Finding path...\n",
            "A* Search Path: A -> C -> F\n",
            "Total Cost: 7\n"
          ]
        }
      ]
    }
  ]
}