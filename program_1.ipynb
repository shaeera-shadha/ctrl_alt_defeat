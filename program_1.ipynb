{
  "nbformat": 4,
  "nbformat_minor": 0,
  "metadata": {
    "colab": {
      "provenance": [],
      "authorship_tag": "ABX9TyNRrAGd4L3XFVJ4pi7aHMfY",
      "include_colab_link": true
    },
    "kernelspec": {
      "name": "python3",
      "display_name": "Python 3"
    },
    "language_info": {
      "name": "python"
    }
  },
  "cells": [
    {
      "cell_type": "markdown",
      "metadata": {
        "id": "view-in-github",
        "colab_type": "text"
      },
      "source": [
        "<a href=\"https://colab.research.google.com/github/shaeera-shadha/ctrl_alt_defeat/blob/AI-lab/program_1.ipynb\" target=\"_parent\"><img src=\"https://colab.research.google.com/assets/colab-badge.svg\" alt=\"Open In Colab\"/></a>"
      ]
    },
    {
      "cell_type": "code",
      "source": [
        "import numpy as np\n",
        "arr = np.array([1, 9, 3, 4, 5, 6, 7])\n",
        "sorted_arr = np.sort(arr)\n",
        "print(\"original array: \", arr)\n",
        "print(\"sorted array is: \", sorted_arr)"
      ],
      "metadata": {
        "colab": {
          "base_uri": "https://localhost:8080/"
        },
        "id": "08-3hZlfF9A5",
        "outputId": "7c336bf2-13a7-427d-c124-f3037f2cd483"
      },
      "execution_count": 2,
      "outputs": [
        {
          "output_type": "stream",
          "name": "stdout",
          "text": [
            "original array:  [1 9 3 4 5 6 7]\n",
            "sorted array is:  [1 3 4 5 6 7 9]\n"
          ]
        }
      ]
    }
  ]
}