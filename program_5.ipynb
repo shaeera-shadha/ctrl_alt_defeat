{
  "nbformat": 4,
  "nbformat_minor": 0,
  "metadata": {
    "colab": {
      "provenance": [],
      "authorship_tag": "ABX9TyP8mnsREIZqY46CfKXm/AxM",
      "include_colab_link": true
    },
    "kernelspec": {
      "name": "python3",
      "display_name": "Python 3"
    },
    "language_info": {
      "name": "python"
    }
  },
  "cells": [
    {
      "cell_type": "markdown",
      "metadata": {
        "id": "view-in-github",
        "colab_type": "text"
      },
      "source": [
        "<a href=\"https://colab.research.google.com/github/shaeera-shadha/ctrl_alt_defeat/blob/AI-lab/program_5.ipynb\" target=\"_parent\"><img src=\"https://colab.research.google.com/assets/colab-badge.svg\" alt=\"Open In Colab\"/></a>"
      ]
    },
    {
      "cell_type": "code",
      "execution_count": 1,
      "metadata": {
        "colab": {
          "base_uri": "https://localhost:8080/"
        },
        "id": "F9avAoKxJW8D",
        "outputId": "568bdbf1-442c-4af1-88d6-efd2951e2151"
      },
      "outputs": [
        {
          "output_type": "stream",
          "name": "stdout",
          "text": [
            "Maximum value found at x = 2.0000000000000004, with value = 4.0\n"
          ]
        }
      ],
      "source": [
        "def objective_function(x):\n",
        "    return -x**2 + 4*x\n",
        "\n",
        "def hill_climbing(start, step_size, max_iterations):\n",
        "    current_x = start\n",
        "    for _ in range(max_iterations):\n",
        "        neighbour_plus = current_x + step_size\n",
        "        neighbour_minus = current_x - step_size\n",
        "\n",
        "        if objective_function(neighbour_plus) > objective_function(current_x):\n",
        "            current_x = neighbour_plus\n",
        "        elif objective_function(neighbour_minus) > objective_function(current_x):\n",
        "            current_x = neighbour_minus\n",
        "        else:\n",
        "            break\n",
        "\n",
        "    return current_x, objective_function(current_x)\n",
        "\n",
        "start = 0\n",
        "step_size = 0.1\n",
        "max_steps = 100\n",
        "\n",
        "best_x, best_value = hill_climbing(start, step_size, max_steps)\n",
        "\n",
        "print(f'Maximum value found at x = {best_x}, with value = {best_value}')\n"
      ]
    }
  ]
}